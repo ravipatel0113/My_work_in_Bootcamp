{
 "cells": [
  {
   "cell_type": "code",
   "execution_count": 1,
   "metadata": {},
   "outputs": [],
   "source": [
    "# Dependencies\n",
    "import random\n",
    "import json\n",
    "import requests"
   ]
  },
  {
   "cell_type": "code",
   "execution_count": 2,
   "metadata": {},
   "outputs": [],
   "source": [
    "# Let's get the JSON for 100 posts sequentially.\n",
    "url = \"http://jsonplaceholder.typicode.com/posts/\""
   ]
  },
  {
   "cell_type": "code",
   "execution_count": 3,
   "metadata": {},
   "outputs": [],
   "source": [
    "# Create an empty list to store the responses\n",
    "response_json = []"
   ]
  },
  {
   "cell_type": "code",
   "execution_count": 8,
   "metadata": {},
   "outputs": [
    {
     "data": {
      "text/plain": [
       "[92, 2, 16, 34, 54, 78, 93, 22, 14, 60, 69, 49, 25]"
      ]
     },
     "execution_count": 8,
     "metadata": {},
     "output_type": "execute_result"
    }
   ],
   "source": [
    "# Create random indices representing\n",
    "# a user's choice of posts\n",
    "indices = random.sample(list(range(1, 100)), 13)\n",
    "indices"
   ]
  },
  {
   "cell_type": "code",
   "execution_count": 9,
   "metadata": {},
   "outputs": [
    {
     "name": "stdout",
     "output_type": "stream",
     "text": [
      "Making request number: 0 for ID: 92\n",
      "Making request number: 1 for ID: 2\n",
      "Making request number: 2 for ID: 16\n",
      "Making request number: 3 for ID: 34\n",
      "Making request number: 4 for ID: 54\n",
      "Making request number: 5 for ID: 78\n",
      "Making request number: 6 for ID: 93\n",
      "Making request number: 7 for ID: 22\n",
      "Making request number: 8 for ID: 14\n",
      "Making request number: 9 for ID: 60\n",
      "Making request number: 10 for ID: 69\n",
      "Making request number: 11 for ID: 49\n",
      "Making request number: 12 for ID: 25\n"
     ]
    }
   ],
   "source": [
    "# Make a request for each of the indices\n",
    "for x in range(len(indices)):\n",
    "    print(f\"Making request number: {x} for ID: {indices[x]}\")\n",
    "\n",
    "    # Get one of the posts\n",
    "    post_response = requests.get(url + str(indices[x]))\n",
    "\n",
    "    # Save post's JSON\n",
    "    response_json.append(post_response.json())"
   ]
  },
  {
   "cell_type": "code",
   "execution_count": 10,
   "metadata": {},
   "outputs": [
    {
     "name": "stdout",
     "output_type": "stream",
     "text": [
      "We have 23 posts!\n"
     ]
    }
   ],
   "source": [
    "# Now we have 10 post objects, \n",
    "# which we got by making 100 requests to the API.\n",
    "print(f\"We have {len(response_json)} posts!\")"
   ]
  },
  {
   "cell_type": "code",
   "execution_count": 7,
   "metadata": {},
   "outputs": [
    {
     "data": {
      "text/plain": [
       "[{'userId': 2,\n",
       "  'id': 20,\n",
       "  'title': 'doloribus ad provident suscipit at',\n",
       "  'body': 'qui consequuntur ducimus possimus quisquam amet similique\\nsuscipit porro ipsam amet\\neos veritatis officiis exercitationem vel fugit aut necessitatibus totam\\nomnis rerum consequatur expedita quidem cumque explicabo'},\n",
       " {'userId': 6,\n",
       "  'id': 60,\n",
       "  'title': 'consequatur placeat omnis quisquam quia reprehenderit fugit veritatis facere',\n",
       "  'body': 'asperiores sunt ab assumenda cumque modi velit\\nqui esse omnis\\nvoluptate et fuga perferendis voluptas\\nillo ratione amet aut et omnis'},\n",
       " {'userId': 2,\n",
       "  'id': 16,\n",
       "  'title': 'sint suscipit perspiciatis velit dolorum rerum ipsa laboriosam odio',\n",
       "  'body': 'suscipit nam nisi quo aperiam aut\\nasperiores eos fugit maiores voluptatibus quia\\nvoluptatem quis ullam qui in alias quia est\\nconsequatur magni mollitia accusamus ea nisi voluptate dicta'},\n",
       " {'userId': 2,\n",
       "  'id': 13,\n",
       "  'title': 'dolorum ut in voluptas mollitia et saepe quo animi',\n",
       "  'body': 'aut dicta possimus sint mollitia voluptas commodi quo doloremque\\niste corrupti reiciendis voluptatem eius rerum\\nsit cumque quod eligendi laborum minima\\nperferendis recusandae assumenda consectetur porro architecto ipsum ipsam'},\n",
       " {'userId': 3,\n",
       "  'id': 26,\n",
       "  'title': 'est et quae odit qui non',\n",
       "  'body': 'similique esse doloribus nihil accusamus\\nomnis dolorem fuga consequuntur reprehenderit fugit recusandae temporibus\\nperspiciatis cum ut laudantium\\nomnis aut molestiae vel vero'},\n",
       " {'userId': 10,\n",
       "  'id': 94,\n",
       "  'title': 'qui qui voluptates illo iste minima',\n",
       "  'body': 'aspernatur expedita soluta quo ab ut similique\\nexpedita dolores amet\\nsed temporibus distinctio magnam saepe deleniti\\nomnis facilis nam ipsum natus sint similique omnis'},\n",
       " {'userId': 2,\n",
       "  'id': 18,\n",
       "  'title': 'voluptate et itaque vero tempora molestiae',\n",
       "  'body': 'eveniet quo quis\\nlaborum totam consequatur non dolor\\nut et est repudiandae\\nest voluptatem vel debitis et magnam'},\n",
       " {'userId': 5,\n",
       "  'id': 45,\n",
       "  'title': 'ut numquam possimus omnis eius suscipit laudantium iure',\n",
       "  'body': 'est natus reiciendis nihil possimus aut provident\\nex et dolor\\nrepellat pariatur est\\nnobis rerum repellendus dolorem autem'},\n",
       " {'userId': 5,\n",
       "  'id': 43,\n",
       "  'title': 'eligendi iste nostrum consequuntur adipisci praesentium sit beatae perferendis',\n",
       "  'body': 'similique fugit est\\nillum et dolorum harum et voluptate eaque quidem\\nexercitationem quos nam commodi possimus cum odio nihil nulla\\ndolorum exercitationem magnam ex et a et distinctio debitis'},\n",
       " {'userId': 1,\n",
       "  'id': 8,\n",
       "  'title': 'dolorem dolore est ipsam',\n",
       "  'body': 'dignissimos aperiam dolorem qui eum\\nfacilis quibusdam animi sint suscipit qui sint possimus cum\\nquaerat magni maiores excepturi\\nipsam ut commodi dolor voluptatum modi aut vitae'}]"
      ]
     },
     "execution_count": 7,
     "metadata": {},
     "output_type": "execute_result"
    }
   ],
   "source": [
    "response_json"
   ]
  }
 ],
 "metadata": {
  "kernelspec": {
   "display_name": "Python 3",
   "language": "python",
   "name": "python3"
  },
  "language_info": {
   "codemirror_mode": {
    "name": "ipython",
    "version": 3
   },
   "file_extension": ".py",
   "mimetype": "text/x-python",
   "name": "python",
   "nbconvert_exporter": "python",
   "pygments_lexer": "ipython3",
   "version": "3.8.5"
  },
  "varInspector": {
   "cols": {
    "lenName": 16,
    "lenType": 16,
    "lenVar": 40
   },
   "kernels_config": {
    "python": {
     "delete_cmd_postfix": "",
     "delete_cmd_prefix": "del ",
     "library": "var_list.py",
     "varRefreshCmd": "print(var_dic_list())"
    },
    "r": {
     "delete_cmd_postfix": ") ",
     "delete_cmd_prefix": "rm(",
     "library": "var_list.r",
     "varRefreshCmd": "cat(var_dic_list()) "
    }
   },
   "types_to_exclude": [
    "module",
    "function",
    "builtin_function_or_method",
    "instance",
    "_Feature"
   ],
   "window_display": false
  }
 },
 "nbformat": 4,
 "nbformat_minor": 2
}
