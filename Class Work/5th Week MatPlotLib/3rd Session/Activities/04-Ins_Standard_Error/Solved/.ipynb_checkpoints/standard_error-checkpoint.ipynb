{
 "cells": [
  {
   "cell_type": "code",
   "execution_count": 1,
   "metadata": {},
   "outputs": [],
   "source": [
    "# Dependencies\n",
    "import pandas as pd\n",
    "import random\n",
    "import matplotlib.pyplot as plt\n",
    "import numpy as np\n",
    "from scipy.stats import sem\n",
    "\n",
    "# Set the seed so our data is reproducible\n",
    "random.seed(42)"
   ]
  },
  {
   "cell_type": "code",
   "execution_count": 2,
   "metadata": {},
   "outputs": [
    {
     "name": "stdout",
     "output_type": "stream",
     "text": [
      "          Type  Combined_MPG                           Make_Model\n",
      "0  Two Seaters       21.0000                            Acura_NSX\n",
      "1  Two Seaters       27.9406                        ALFA ROMEO_4C\n",
      "2  Two Seaters       20.9455  Aston Martin Lagonda Ltd_Vantage V8\n",
      "3  Two Seaters       25.9952             Audi_TT Roadster quattro\n",
      "4  Two Seaters       27.6300                     BMW_Z4 sDrive30i\n"
     ]
    }
   ],
   "source": [
    "# Sample versus population example fuel economy\n",
    "fuel_economy = pd.read_csv('../Resources/2019_fuel_economy.csv')\n",
    "\n",
    "# First overview the data set - how many factors, etc.\n",
    "print(fuel_economy.head())"
   ]
  },
  {
   "cell_type": "code",
   "execution_count": 3,
   "metadata": {},
   "outputs": [
    {
     "name": "stdout",
     "output_type": "stream",
     "text": [
      "The mean MPG of all vehicles is: 23.33\n",
      "The standard deviation of all vehicle's MPG is: 5.94\n"
     ]
    },
    {
     "data": {
      "image/png": "[encoded data removed]",
      "text/plain": [
       "<Figure size 432x288 with 1 Axes>"
      ]
     },
     "metadata": {
      "needs_background": "light"
     },
     "output_type": "display_data"
    }
   ],
   "source": [
    "# Calculate the summary statistics and plot the histogram of the entire population data\n",
    "print(f\"The mean MPG of all vehicles is: {round(fuel_economy.Combined_MPG.mean(),2)}\")\n",
    "print(f\"The standard deviation of all vehicle's MPG is: {round(fuel_economy.Combined_MPG.std(),2)}\")\n",
    "plt.hist(fuel_economy.Combined_MPG)\n",
    "plt.xlabel(\"Fuel Economy (MPG)\")\n",
    "plt.ylabel(\"Number of Vehicles\")\n",
    "plt.show()"
   ]
  },
  {
   "cell_type": "code",
   "execution_count": 4,
   "metadata": {},
   "outputs": [
    {
     "name": "stdout",
     "output_type": "stream",
     "text": [
      "The mean MPG of all vehicles is: 18.48\n",
      "The standard deviation of all vehicle's MPG is: 2.41\n"
     ]
    },
    {
     "data": {
      "image/png": "[encoded data removed]",
      "text/plain": [
       "<Figure size 432x288 with 1 Axes>"
      ]
     },
     "metadata": {
      "needs_background": "light"
     },
     "output_type": "display_data"
    }
   ],
   "source": [
    "# Calculate the summary statistics and plot the histogram of the sample data using iloc\n",
    "subset = fuel_economy.iloc[range(766,856)]\n",
    "print(f\"The mean MPG of all vehicles is: {round(subset.Combined_MPG.mean(),2)}\")\n",
    "print(f\"The standard deviation of all vehicle's MPG is: {round(subset.Combined_MPG.std(),2)}\")\n",
    "plt.hist(subset.Combined_MPG)\n",
    "plt.xlabel(\"Fuel Economy (MPG)\")\n",
    "plt.ylabel(\"Number of Vehicles\")\n",
    "plt.show()"
   ]
  },
  {
   "cell_type": "code",
   "execution_count": 5,
   "metadata": {},
   "outputs": [
    {
     "name": "stdout",
     "output_type": "stream",
     "text": [
      "The mean MPG of all vehicles is: 23.19\n",
      "The standard deviation of all vehicle's MPG is: 6.06\n"
     ]
    },
    {
     "data": {
      "image/png": "[encoded data removed]",
      "text/plain": [
       "<Figure size 432x288 with 1 Axes>"
      ]
     },
     "metadata": {
      "needs_background": "light"
     },
     "output_type": "display_data"
    }
   ],
   "source": [
    "# Calculate the summary statistics and plot the histogram of the sample data using random sampling\n",
    "subset = fuel_economy.sample(90)\n",
    "print(f\"The mean MPG of all vehicles is: {round(subset.Combined_MPG.mean(),2)}\")\n",
    "print(f\"The standard deviation of all vehicle's MPG is: {round(subset.Combined_MPG.std(),2)}\")\n",
    "plt.hist(subset.Combined_MPG)\n",
    "plt.xlabel(\"Fuel Economy (MPG)\")\n",
    "plt.ylabel(\"Number of Vehicles\")\n",
    "plt.show()"
   ]
  },
  {
   "cell_type": "code",
   "execution_count": 37,
   "metadata": {},
   "outputs": [
    {
     "name": "stdout",
     "output_type": "stream",
     "text": [
      "The SEM value for the sample fuel economy data is 0.8916366143987126\n"
     ]
    }
   ],
   "source": [
    "# Generate a new 30 vehicle sample and calculate the SEM of the sample\n",
    "sample = fuel_economy.sample(30)\n",
    "print(f\"The SEM value for the sample fuel economy data is {sem(sample.Combined_MPG)}\")"
   ]
  },
  {
   "cell_type": "code",
   "execution_count": 65,
   "metadata": {},
   "outputs": [],
   "source": [
    "# Create a sample set of 10, each with 30 vehicles\n",
    "vehicle_sample_set = [fuel_economy.sample(30) for x in range(0,10)]"
   ]
  },
  {
   "cell_type": "code",
   "execution_count": 66,
   "metadata": {},
   "outputs": [],
   "source": [
    "# Generate the plot data for each sample \n",
    "means = [sample.Combined_MPG.mean() for sample in vehicle_sample_set]\n",
    "standard_errors = [sem(sample.Combined_MPG) for sample in vehicle_sample_set]\n",
    "x_axis = np.arange(0, len(vehicle_sample_set), 1) + 1"
   ]
  },
  {
   "cell_type": "code",
   "execution_count": 67,
   "metadata": {},
   "outputs": [
    {
     "data": {
      "image/png": "[encoded data removed]",
      "text/plain": [
       "<Figure size 432x288 with 1 Axes>"
      ]
     },
     "metadata": {
      "needs_background": "light"
     },
     "output_type": "display_data"
    }
   ],
   "source": [
    "# Setting up the plot\n",
    "fig, ax = plt.subplots()\n",
    "ax.errorbar(x_axis, means, standard_errors, fmt=\"o\")\n",
    "ax.set_xlim(0, len(vehicle_sample_set) + 1)\n",
    "ax.set_ylim(20,28)\n",
    "ax.set_xlabel(\"Sample Number\")\n",
    "ax.set_ylabel(\"Mean MPG\")\n",
    "plt.show()"
   ]
  },
  {
   "cell_type": "code",
   "execution_count": null,
   "metadata": {},
   "outputs": [],
   "source": []
  }
 ],
 "metadata": {
  "kernelspec": {
   "display_name": "Python 3",
   "language": "python",
   "name": "python3"
  },
  "language_info": {
   "codemirror_mode": {
    "name": "ipython",
    "version": 3
   },
   "file_extension": ".py",
   "mimetype": "text/x-python",
   "name": "python",
   "nbconvert_exporter": "python",
   "pygments_lexer": "ipython3",
   "version": "3.8.5"
  }
 },
 "nbformat": 4,
 "nbformat_minor": 2
}
